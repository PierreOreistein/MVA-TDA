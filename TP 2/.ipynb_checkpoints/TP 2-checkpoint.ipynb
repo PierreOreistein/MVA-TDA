{
 "cells": [
  {
   "cell_type": "markdown",
   "metadata": {},
   "source": [
    "## MVA 2018-19"
   ]
  },
  {
   "cell_type": "markdown",
   "metadata": {},
   "source": [
    "To download this notebook or its pdf version:\n",
    "\n",
    "http://geometrica.saclay.inria.fr/team/Fred.Chazal/MVA2018.html"
   ]
  },
  {
   "cell_type": "markdown",
   "metadata": {},
   "source": [
    "Documentation for the latest version of Gudhi: \n",
    "\n",
    "http://gudhi.gforge.inria.fr/python/latest/"
   ]
  },
  {
   "cell_type": "markdown",
   "metadata": {},
   "source": [
    "# Simplicial complexes and simplex trees"
   ]
  },
  {
   "cell_type": "markdown",
   "metadata": {},
   "source": [
    "In Gudhi, (filtered) simplicial complexes are encoded through a data structure called simplex tree. Here is a very simple example illustrating the use of simplex tree to represent simplicial complexes. See the Gudhi documentation for a complete list of functionalities. Try the following code and a few other functionalities from the documentation to get used to the Simplex Tree data structure."
   ]
  },
  {
   "cell_type": "code",
   "execution_count": 1,
   "metadata": {
    "ExecuteTime": {
     "end_time": "2018-11-20T12:12:30.016229Z",
     "start_time": "2018-11-20T12:12:29.854676Z"
    }
   },
   "outputs": [],
   "source": [
    "import numpy as np\n",
    "import gudhi as gd\n",
    "import random as rd\n",
    "import matplotlib.pyplot as plt"
   ]
  },
  {
   "cell_type": "code",
   "execution_count": 2,
   "metadata": {
    "ExecuteTime": {
     "end_time": "2018-11-20T12:12:30.024793Z",
     "start_time": "2018-11-20T12:12:30.018133Z"
    }
   },
   "outputs": [
    {
     "name": "stdout",
     "output_type": "stream",
     "text": [
      "First simplex inserted!\n"
     ]
    },
    {
     "data": {
      "text/plain": [
       "True"
      ]
     },
     "execution_count": 2,
     "metadata": {},
     "output_type": "execute_result"
    }
   ],
   "source": [
    "st = gd.SimplexTree() # Create an empty simplicial complex\n",
    "\n",
    "# Simplicies can be inserted 1 by 1\n",
    "# Vertices are indexed by integers\n",
    "if st.insert([0,1]):\n",
    "    print(\"First simplex inserted!\")\n",
    "st.insert([1,2])\n",
    "st.insert([2,3])\n",
    "st.insert([3,0])\n",
    "st.insert([0,2])\n",
    "st.insert([3,1])"
   ]
  },
  {
   "cell_type": "code",
   "execution_count": 3,
   "metadata": {
    "ExecuteTime": {
     "end_time": "2018-11-20T12:12:30.043574Z",
     "start_time": "2018-11-20T12:12:30.026133Z"
    }
   },
   "outputs": [
    {
     "name": "stdout",
     "output_type": "stream",
     "text": [
      "([0], 0.0)\n",
      "([1], 0.0)\n",
      "([0, 1], 0.0)\n",
      "([2], 0.0)\n",
      "([0, 2], 0.0)\n",
      "([1, 2], 0.0)\n",
      "([3], 0.0)\n",
      "([0, 3], 0.0)\n",
      "([1, 3], 0.0)\n",
      "([2, 3], 0.0)\n"
     ]
    }
   ],
   "source": [
    "L = st.get_filtration() # Get a list with all simplices\n",
    "# Notice that inserting an edge automatically inserts its vertices, if they were not already in the complex\n",
    "for simplex in L:\n",
    "    print(simplex)"
   ]
  },
  {
   "cell_type": "code",
   "execution_count": 4,
   "metadata": {
    "ExecuteTime": {
     "end_time": "2018-11-20T12:12:30.064352Z",
     "start_time": "2018-11-20T12:12:30.045863Z"
    }
   },
   "outputs": [
    {
     "data": {
      "text/plain": [
       "[([0], 0.0),\n",
       " ([1], 0.0),\n",
       " ([0, 1], 0.0),\n",
       " ([2], 0.0),\n",
       " ([0, 2], 0.0),\n",
       " ([1, 2], 0.0),\n",
       " ([3], 0.0),\n",
       " ([0, 3], 0.0),\n",
       " ([1, 3], 0.0),\n",
       " ([2, 3], 0.0),\n",
       " ([0, 1, 2], 0.1),\n",
       " ([1, 2, 3], 0.2),\n",
       " ([0, 2, 3], 0.3),\n",
       " ([0, 1, 3], 0.4),\n",
       " ([4], 0.7),\n",
       " ([2, 4], 0.7),\n",
       " ([3, 4], 0.7),\n",
       " ([2, 3, 4], 0.7)]"
      ]
     },
     "execution_count": 4,
     "metadata": {},
     "output_type": "execute_result"
    }
   ],
   "source": [
    "# Insert the 2-skeleton, giving some filtration values to the faces\n",
    "st.insert([0,1,2],filtration=0.1)\n",
    "st.insert([1,2,3],filtration=0.2)\n",
    "st.insert([0,2,3],filtration=0.3)\n",
    "st.insert([0,1,3],filtration=0.4)\n",
    "\n",
    "# If you add a new simplex with a given filtration value, all its faces that \n",
    "# were not in the complex are inserted with the same filtration value\n",
    "st.insert([2,3,4],filtration=0.7)\n",
    "st.get_filtration()"
   ]
  },
  {
   "cell_type": "code",
   "execution_count": 5,
   "metadata": {
    "ExecuteTime": {
     "end_time": "2018-11-20T12:12:30.084264Z",
     "start_time": "2018-11-20T12:12:30.066132Z"
    }
   },
   "outputs": [
    {
     "name": "stdout",
     "output_type": "stream",
     "text": [
      "dimension= 2\n",
      "filtration[1,2]= 0.0\n",
      "filtration[4,2]= 0.7\n",
      "num_simplices= 18\n",
      "num_vertices= 5\n",
      "skeleton[2]= [([0, 1, 2], 0.1), ([0, 1, 3], 0.4), ([0, 1], 0.0), ([0, 2, 3], 0.3), ([0, 2], 0.0), ([0, 3], 0.0), ([0], 0.0), ([1, 2, 3], 0.2), ([1, 2], 0.0), ([1, 3], 0.0), ([1], 0.0), ([2, 3, 4], 0.7), ([2, 3], 0.0), ([2, 4], 0.7), ([2], 0.0), ([3, 4], 0.7), ([3], 0.0), ([4], 0.7)]\n",
      "skeleton[1]= [([0, 1], 0.0), ([0, 2], 0.0), ([0, 3], 0.0), ([0], 0.0), ([1, 2], 0.0), ([1, 3], 0.0), ([1], 0.0), ([2, 3], 0.0), ([2, 4], 0.7), ([2], 0.0), ([3, 4], 0.7), ([3], 0.0), ([4], 0.7)]\n",
      "skeleton[0]= [([0], 0.0), ([1], 0.0), ([2], 0.0), ([3], 0.0), ([4], 0.7)]\n"
     ]
    }
   ],
   "source": [
    "# Many operations can be done on simplicial complexes, see also the Gudhi documentation and examples\n",
    "print(\"dimension=\",st.dimension())\n",
    "print(\"filtration[1,2]=\",st.filtration([1,2]))\n",
    "print(\"filtration[4,2]=\",st.filtration([4,2]))\n",
    "print(\"num_simplices=\", st.num_simplices())\n",
    "print(\"num_vertices=\", st.num_vertices())\n",
    "print(\"skeleton[2]=\", st.get_skeleton(2))\n",
    "print(\"skeleton[1]=\", st.get_skeleton(1))\n",
    "print(\"skeleton[0]=\", st.get_skeleton(0))"
   ]
  },
  {
   "cell_type": "markdown",
   "metadata": {},
   "source": [
    "# Filtrations and persistence diagrams"
   ]
  },
  {
   "cell_type": "code",
   "execution_count": 6,
   "metadata": {
    "ExecuteTime": {
     "end_time": "2018-11-20T12:12:30.130835Z",
     "start_time": "2018-11-20T12:12:30.085639Z"
    }
   },
   "outputs": [
    {
     "data": {
      "text/plain": [
       "[([0], 0.0),\n",
       " ([1], 0.0),\n",
       " ([2], 0.0),\n",
       " ([3], 0.0),\n",
       " ([4], 0.0),\n",
       " ([0, 1], 1.0),\n",
       " ([0, 2], 1.0),\n",
       " ([1, 2], 1.0),\n",
       " ([0, 3], 1.0),\n",
       " ([1, 3], 1.0),\n",
       " ([2, 3], 1.0),\n",
       " ([2, 4], 1.0),\n",
       " ([3, 4], 1.0),\n",
       " ([0, 1, 2], 2.0),\n",
       " ([0, 1, 3], 2.0),\n",
       " ([0, 2, 3], 2.0),\n",
       " ([1, 2, 3], 2.0),\n",
       " ([2, 3, 4], 2.0)]"
      ]
     },
     "execution_count": 6,
     "metadata": {},
     "output_type": "execute_result"
    }
   ],
   "source": [
    "# As an example, we assign to each simplex its dimension as filtration value\n",
    "for splx in st.get_filtration():\n",
    "    st.assign_filtration(splx[0],len(splx[0])-1)\n",
    "# Let the structure know that we have messed with it and an old filtration cache may be invalid.\n",
    "# This is redundant here because get_filtration() does it anyway, but not all functions do.\n",
    "st.initialize_filtration()\n",
    "st.get_filtration()"
   ]
  },
  {
   "cell_type": "code",
   "execution_count": 7,
   "metadata": {
    "ExecuteTime": {
     "end_time": "2018-11-20T12:12:30.148900Z",
     "start_time": "2018-11-20T12:12:30.132091Z"
    }
   },
   "outputs": [
    {
     "name": "stdout",
     "output_type": "stream",
     "text": [
      "[(2, (2.0, inf)), (1, (1.0, 2.0)), (1, (1.0, 2.0)), (1, (1.0, 2.0)), (1, (1.0, 2.0)), (0, (0.0, inf)), (0, (0.0, 1.0)), (0, (0.0, 1.0)), (0, (0.0, 1.0)), (0, (0.0, 1.0))]\n"
     ]
    }
   ],
   "source": [
    "# To compute the persistence diagram of the filtered complex\n",
    "# By default it stops at dimension-1, use persistence_dim_max=True\n",
    "# to compute homology in all dimensions\n",
    "diag = st.persistence(persistence_dim_max=True)\n",
    "# Display each interval as (dimension, (birth, death))\n",
    "print(diag)"
   ]
  },
  {
   "cell_type": "code",
   "execution_count": 8,
   "metadata": {
    "ExecuteTime": {
     "end_time": "2018-11-20T12:12:30.570475Z",
     "start_time": "2018-11-20T12:12:30.151174Z"
    }
   },
   "outputs": [
    {
     "data": {
      "text/plain": [
       "<module 'matplotlib.pyplot' from '/home/pierre/anaconda3/lib/python3.6/site-packages/matplotlib/pyplot.py'>"
      ]
     },
     "execution_count": 8,
     "metadata": {},
     "output_type": "execute_result"
    },
    {
     "data": {
      "image/png": "[encoded data removed]",
      "text/plain": [
       "<Figure size 432x288 with 1 Axes>"
      ]
     },
     "metadata": {
      "needs_background": "light"
     },
     "output_type": "display_data"
    }
   ],
   "source": [
    "# Plot a persistence diagram\n",
    "gd.plot_persistence_diagram(diag)"
   ]
  },
  {
   "cell_type": "code",
   "execution_count": 9,
   "metadata": {
    "ExecuteTime": {
     "end_time": "2018-11-20T12:12:30.765748Z",
     "start_time": "2018-11-20T12:12:30.572902Z"
    }
   },
   "outputs": [
    {
     "data": {
      "text/plain": [
       "<module 'matplotlib.pyplot' from '/home/pierre/anaconda3/lib/python3.6/site-packages/matplotlib/pyplot.py'>"
      ]
     },
     "execution_count": 9,
     "metadata": {},
     "output_type": "execute_result"
    },
    {
     "data": {
      "image/png": "[encoded data removed]",
      "text/plain": [
       "<Figure size 432x288 with 1 Axes>"
      ]
     },
     "metadata": {
      "needs_background": "light"
     },
     "output_type": "display_data"
    }
   ],
   "source": [
    "gd.plot_persistence_barcode(diag)"
   ]
  },
  {
   "cell_type": "code",
   "execution_count": 10,
   "metadata": {
    "ExecuteTime": {
     "end_time": "2018-11-20T12:12:30.981920Z",
     "start_time": "2018-11-20T12:12:30.767172Z"
    }
   },
   "outputs": [
    {
     "data": {
      "text/plain": [
       "<module 'matplotlib.pyplot' from '/home/pierre/anaconda3/lib/python3.6/site-packages/matplotlib/pyplot.py'>"
      ]
     },
     "execution_count": 10,
     "metadata": {},
     "output_type": "execute_result"
    },
    {
     "data": {
      "image/png": "[encoded data removed]",
      "text/plain": [
       "<Figure size 432x288 with 1 Axes>"
      ]
     },
     "metadata": {
      "needs_background": "light"
     },
     "output_type": "display_data"
    }
   ],
   "source": [
    "# To compute the bottleneck distance between diagrams\n",
    "st2 = gd.SimplexTree()\n",
    "st2.insert([0,1],filtration=0.0)\n",
    "st2.insert([1,2],filtration=0.1)\n",
    "st2.insert([2,0],filtration=0.2)\n",
    "st2.insert([0,1,2],filtration=0.5)\n",
    "diag2 = st2.persistence()\n",
    "gd.plot_persistence_diagram(diag2)"
   ]
  },
  {
   "cell_type": "code",
   "execution_count": 11,
   "metadata": {
    "ExecuteTime": {
     "end_time": "2018-11-20T12:12:30.988025Z",
     "start_time": "2018-11-20T12:12:30.983489Z"
    }
   },
   "outputs": [
    {
     "name": "stdout",
     "output_type": "stream",
     "text": [
      "bottleneck distance in dimension 0: 0.5\n",
      "bottleneck distance in dimension 1: 0.5\n"
     ]
    }
   ],
   "source": [
    "diag_0 = st.persistence_intervals_in_dimension(0)\n",
    "diag2_0 = st2.persistence_intervals_in_dimension(0)\n",
    "dB0 = gd.bottleneck_distance(diag_0, diag2_0)\n",
    "\n",
    "diag_1 = st.persistence_intervals_in_dimension(1)\n",
    "diag2_1 = st2.persistence_intervals_in_dimension(1)\n",
    "dB1 = gd.bottleneck_distance(diag_1, diag2_1)\n",
    "\n",
    "print(\"bottleneck distance in dimension 0:\", dB0)\n",
    "print(\"bottleneck distance in dimension 1:\", dB1)"
   ]
  },
  {
   "cell_type": "markdown",
   "metadata": {},
   "source": [
    "## Exercise\n",
    "1. Recall the torus is homeomorphic to the surface obtained by identifying the opposite sides of a square as illustrated below. ![Figure 1](TorusTriangle.png) Using Gudhi, construct a triangulation (2-dimensional simplicial complex) of the Torus. Define a filtration on it, compute its persistence and use it to deduce the Betti numbers of the torus (check that you get the correct result using the function betti_numbers()).\n",
    "2. Use Gudhi to compute the Betti numbers of a sphere of dimension 2 and of a sphere of dimension 3 (hint: the k -dimensional sphere is homeomorphic to the boundary of a (k+1)-dimensional simplex."
   ]
  },
  {
   "cell_type": "markdown",
   "metadata": {},
   "source": [
    "### Question 1"
   ]
  },
  {
   "cell_type": "code",
   "execution_count": 12,
   "metadata": {
    "ExecuteTime": {
     "end_time": "2018-11-20T12:12:31.067612Z",
     "start_time": "2018-11-20T12:12:31.054177Z"
    }
   },
   "outputs": [],
   "source": [
    "# Create the traingulation of the torus\n",
    "torus = gd.SimplexTree()\n",
    "torus.insert([0, 1, 4])\n",
    "torus.insert([0, 3, 4])\n",
    "torus.insert([1, 2, 5])\n",
    "torus.insert([1, 4, 5])\n",
    "torus.insert([2, 0, 3])\n",
    "torus.insert([2, 5, 3])\n",
    "torus.insert([3, 4, 7])\n",
    "torus.insert([3, 6, 7])\n",
    "torus.insert([4, 5, 8])\n",
    "torus.insert([4, 7, 8])\n",
    "torus.insert([5, 3, 6])\n",
    "torus.insert([5, 8, 6])\n",
    "torus.insert([6, 7, 1])\n",
    "torus.insert([6, 0, 1])\n",
    "torus.insert([7, 8, 2])\n",
    "torus.insert([7, 1, 2])\n",
    "torus.insert([8, 6, 0])\n",
    "torus.insert([8, 2, 0])\n",
    "\n",
    "# Assign the right filtration\n",
    "for splx in torus.get_filtration():\n",
    "    torus.assign_filtration(splx[0],len(splx[0])-1)\n",
    "torus.initialize_filtration() ## Do not foget to call that function\n",
    "torus.get_filtration();"
   ]
  },
  {
   "cell_type": "code",
   "execution_count": 13,
   "metadata": {
    "ExecuteTime": {
     "end_time": "2018-11-20T12:12:31.362868Z",
     "start_time": "2018-11-20T12:12:31.074391Z"
    }
   },
   "outputs": [
    {
     "data": {
      "image/png": "[encoded data removed]",
      "text/plain": [
       "<Figure size 432x288 with 1 Axes>"
      ]
     },
     "metadata": {
      "needs_background": "light"
     },
     "output_type": "display_data"
    }
   ],
   "source": [
    "# Display the persistence diagram\n",
    "diag_torus = torus.persistence(persistence_dim_max=True)\n",
    "gd.plot_persistence_diagram(diag_torus);"
   ]
  },
  {
   "cell_type": "code",
   "execution_count": 14,
   "metadata": {
    "ExecuteTime": {
     "end_time": "2018-11-20T12:12:31.373912Z",
     "start_time": "2018-11-20T12:12:31.369648Z"
    }
   },
   "outputs": [
    {
     "data": {
      "text/plain": [
       "[1, 2, 1]"
      ]
     },
     "execution_count": 14,
     "metadata": {},
     "output_type": "execute_result"
    }
   ],
   "source": [
    "# Check that our torus has well the betti numbers equal to (1,2,1)\n",
    "torus.betti_numbers()"
   ]
  },
  {
   "cell_type": "markdown",
   "metadata": {},
   "source": [
    "### Question 2"
   ]
  },
  {
   "cell_type": "code",
   "execution_count": 15,
   "metadata": {
    "ExecuteTime": {
     "end_time": "2018-11-20T12:12:31.393334Z",
     "start_time": "2018-11-20T12:12:31.387149Z"
    }
   },
   "outputs": [],
   "source": [
    "# Create the traingulation of the torus\n",
    "sphere_2D = gd.SimplexTree()\n",
    "tetrahedron = range(4)\n",
    "sphere_2D.insert(tetrahedron)\n",
    "sphere_2D.remove_maximal_simplex(tetrahedron)"
   ]
  },
  {
   "cell_type": "code",
   "execution_count": 16,
   "metadata": {
    "ExecuteTime": {
     "end_time": "2018-11-20T12:12:31.412573Z",
     "start_time": "2018-11-20T12:12:31.403119Z"
    }
   },
   "outputs": [
    {
     "data": {
      "text/plain": [
       "[1, 0, 1]"
      ]
     },
     "execution_count": 16,
     "metadata": {},
     "output_type": "execute_result"
    }
   ],
   "source": [
    "# Check that our torus has well the betti numbers equal to (1,0,1)\n",
    "sphere_2D.persistence(persistence_dim_max=True)\n",
    "sphere_2D.betti_numbers()"
   ]
  },
  {
   "cell_type": "code",
   "execution_count": 17,
   "metadata": {
    "ExecuteTime": {
     "end_time": "2018-11-20T12:12:31.429862Z",
     "start_time": "2018-11-20T12:12:31.422313Z"
    }
   },
   "outputs": [
    {
     "data": {
      "text/plain": [
       "[1, 0, 0, 1]"
      ]
     },
     "execution_count": 17,
     "metadata": {},
     "output_type": "execute_result"
    }
   ],
   "source": [
    "# Create the traingulation of the torus\n",
    "sphere_3D = gd.SimplexTree()\n",
    "tetrahedron_4D = range(5)\n",
    "sphere_3D.insert(tetrahedron_4D)\n",
    "sphere_3D.remove_maximal_simplex(tetrahedron_4D)\n",
    "\n",
    "# Check that our torus has well the betti numbers equal to (1,2,1)\n",
    "sphere_3D.persistence(persistence_dim_max=True)\n",
    "sphere_3D.betti_numbers()"
   ]
  },
  {
   "cell_type": "markdown",
   "metadata": {},
   "source": [
    "# Stability of persistence for functions"
   ]
  },
  {
   "cell_type": "markdown",
   "metadata": {},
   "source": [
    "The goal of this exercise is to illustrate the persistence stability theorem for functions on a very simple example. The code below allows to define a simplicial complex (the so-called Î±-complex) triangulating a set of random points in the unit square in the plane. Although we are not using it for this course, note that gudhi also provides the grid-like CubicalComplex, which may be a more natural choice to represent a function on a square."
   ]
  },
  {
   "cell_type": "code",
   "execution_count": 18,
   "metadata": {
    "ExecuteTime": {
     "end_time": "2018-11-20T12:12:31.809393Z",
     "start_time": "2018-11-20T12:12:31.778019Z"
    }
   },
   "outputs": [],
   "source": [
    "n_pts=1000\n",
    "# Build a random set of points in the unit square\n",
    "X = np.random.rand(n_pts, 2)\n",
    "\n",
    "# Compute the alpha-complex filtration\n",
    "alpha_complex = gd.AlphaComplex(points=X)\n",
    "st = alpha_complex.create_simplex_tree()"
   ]
  },
  {
   "cell_type": "markdown",
   "metadata": {},
   "source": [
    "Let $p_0=(0.25, 0.25)$ and $p_1=(0.75, 0.75)$ be 2 points in the plane $\\mathbb{R}^2$ and $\\sigma=0.05$.\n",
    "1. Build on such a complex the sublevelset filtration of the function $$f(p)=\\exp(-\\frac{\\|p-p_0\\|^2}{\\sigma})+3\\exp(-\\frac{\\|p-p_1\\|^2}{\\sigma})$$ and compute its persistence diagrams in dimensions 0 and 1.\n",
    "2. Compute the persistence diagrams of random perturbations of f and compute the Bottleneck distance between these persistence diagrams and the perturbated ones. Verify that the persistence stability theorem for functions is satisfied."
   ]
  },
  {
   "cell_type": "code",
   "execution_count": 19,
   "metadata": {
    "ExecuteTime": {
     "end_time": "2018-11-20T12:12:32.102216Z",
     "start_time": "2018-11-20T12:12:32.094940Z"
    }
   },
   "outputs": [],
   "source": [
    "def f(p, p_0=np.array([0.25, 0.25]), p_1=[0.75,0.75], sigma=0.05):\n",
    "    \"\"\"Compute the value of f on p.\"\"\"\n",
    "    \n",
    "    result = np.exp(-np.sum(np.abs(p - p_0)) ** 2 / sigma) \n",
    "    result += 3 * np.exp(-np.sum(np.abs(p - p_1)) ** 2 / sigma)\n",
    "    \n",
    "    return result"
   ]
  },
  {
   "cell_type": "code",
   "execution_count": 20,
   "metadata": {
    "ExecuteTime": {
     "end_time": "2018-11-20T12:12:32.505594Z",
     "start_time": "2018-11-20T12:12:32.250366Z"
    }
   },
   "outputs": [],
   "source": [
    "# Add the value of f as a filtration\n",
    "for splx in st.get_filtration():\n",
    "    \n",
    "    maximum = 0\n",
    "    for vertex in splx[0]:\n",
    "\n",
    "        value = f(X[vertex])\n",
    "        if value > maximum:\n",
    "            maximum = value\n",
    "        \n",
    "    st.assign_filtration(splx[0], maximum)\n",
    "    \n",
    "# Initialize the filtration\n",
    "st.initialize_filtration()"
   ]
  },
  {
   "cell_type": "code",
   "execution_count": 21,
   "metadata": {
    "ExecuteTime": {
     "end_time": "2018-11-20T12:12:32.750495Z",
     "start_time": "2018-11-20T12:12:32.513540Z"
    }
   },
   "outputs": [
    {
     "name": "stdout",
     "output_type": "stream",
     "text": [
      "[1, 0, 0]\n"
     ]
    },
    {
     "data": {
      "image/png": "[encoded data removed]",
      "text/plain": [
       "<Figure size 432x288 with 1 Axes>"
      ]
     },
     "metadata": {
      "needs_background": "light"
     },
     "output_type": "display_data"
    }
   ],
   "source": [
    "# Check that our torus has well the betti numbers equal to (1,2,1)\n",
    "st.persistence(persistence_dim_max=True)\n",
    "print(st.betti_numbers())\n",
    "\n",
    "# Display the persistence diagram\n",
    "diag_st = st.persistence(persistence_dim_max=True)\n",
    "gd.plot_persistence_diagram(diag_st);"
   ]
  },
  {
   "cell_type": "markdown",
   "metadata": {},
   "source": [
    "Verifier que l'on ne dépasse jamais l'amplitude de la perturbation"
   ]
  },
  {
   "cell_type": "code",
   "execution_count": 24,
   "metadata": {
    "ExecuteTime": {
     "end_time": "2018-11-20T12:14:05.862825Z",
     "start_time": "2018-11-20T12:13:53.737900Z"
    }
   },
   "outputs": [
    {
     "data": {
      "image/png": "[encoded data removed]",
      "text/plain": [
       "<Figure size 432x288 with 1 Axes>"
      ]
     },
     "metadata": {
      "needs_background": "light"
     },
     "output_type": "display_data"
    }
   ],
   "source": [
    "# Define the perturbation\n",
    "pertubation = 0.05\n",
    "\n",
    "# Compute the alpha-complex filtration\n",
    "alpha_complex = gd.AlphaComplex(points=X)\n",
    "st_2 = alpha_complex.create_simplex_tree()\n",
    "\n",
    "# Add the value of f as a filtration\n",
    "for splx in st_2.get_filtration():\n",
    "    \n",
    "    maximum = 0\n",
    "    for vertex in splx[0]:\n",
    "\n",
    "        value = f(X[vertex]) + (np.random.rand() * 2 - 1) * pertubation \n",
    "        if value > maximum:\n",
    "            maximum = value\n",
    "        \n",
    "    st_2.assign_filtration(splx[0], maximum)\n",
    "    \n",
    "# Initialize the filtration\n",
    "st_2.initialize_filtration()\n",
    "\n",
    "# Display the persistence diagram\n",
    "diag_st_2 = st_2.persistence(persistence_dim_max=True)\n",
    "gd.plot_persistence_diagram(diag_st_2);"
   ]
  },
  {
   "cell_type": "markdown",
   "metadata": {},
   "source": [
    "# Vietoris-Rips and alpha-complex filtrations"
   ]
  },
  {
   "cell_type": "markdown",
   "metadata": {},
   "source": [
    "These are basic instructions to build Vietoris-Rips and Î±-complex filtrations and compute their persistence."
   ]
  },
  {
   "cell_type": "code",
   "execution_count": 23,
   "metadata": {
    "ExecuteTime": {
     "end_time": "2018-11-20T12:12:48.772057Z",
     "start_time": "2018-11-20T12:12:46.009952Z"
    }
   },
   "outputs": [
    {
     "name": "stdout",
     "output_type": "stream",
     "text": [
      "Number of simplices in the V-R complex:  41841\n"
     ]
    },
    {
     "data": {
      "image/png": "[encoded data removed]",
      "text/plain": [
       "<Figure size 432x288 with 1 Axes>"
      ]
     },
     "metadata": {
      "needs_background": "light"
     },
     "output_type": "display_data"
    },
    {
     "data": {
      "image/png": "[encoded data removed]",
      "text/plain": [
       "<Figure size 432x288 with 1 Axes>"
      ]
     },
     "metadata": {
      "needs_background": "light"
     },
     "output_type": "display_data"
    },
    {
     "name": "stdout",
     "output_type": "stream",
     "text": [
      "Number of simplices in the alpha-complex:  2277\n"
     ]
    },
    {
     "data": {
      "text/plain": [
       "<module 'matplotlib.pyplot' from '/home/pierre/anaconda3/lib/python3.6/site-packages/matplotlib/pyplot.py'>"
      ]
     },
     "execution_count": 23,
     "metadata": {},
     "output_type": "execute_result"
    },
    {
     "data": {
      "image/png": "[encoded data removed]",
      "text/plain": [
       "<Figure size 432x288 with 1 Axes>"
      ]
     },
     "metadata": {
      "needs_background": "light"
     },
     "output_type": "display_data"
    }
   ],
   "source": [
    "#Create a random point cloud in 3D\n",
    "nb_pts=100\n",
    "pt_cloud = np.random.rand(nb_pts,3)\n",
    "#Build Rips-Vietoris filtration and compute its persistence diagram\n",
    "rips_complex = gd.RipsComplex(pt_cloud,max_edge_length=0.5)\n",
    "simplex_tree = rips_complex.create_simplex_tree(max_dimension=3)\n",
    "print(\"Number of simplices in the V-R complex: \",simplex_tree.num_simplices())\n",
    "diag = simplex_tree.persistence(homology_coeff_field=2, min_persistence=0)\n",
    "gd.plot_persistence_diagram(diag).show()\n",
    "#Compute Rips-Vietoris filtration and compute its persistence diagram from\n",
    "#a pairwise distance matrix\n",
    "dist_mat = []\n",
    "for i in range(nb_pts):\n",
    "    ld = []\n",
    "    for j in range(i):\n",
    "        ld.append(np.linalg.norm(pt_cloud[i,:]-pt_cloud[j,:]))\n",
    "    dist_mat.append(ld)\n",
    "rips_complex2 = gd.RipsComplex(distance_matrix=dist_mat,max_edge_length=0.5)\n",
    "simplex_tree2 = rips_complex2.create_simplex_tree(max_dimension=3)\n",
    "diag2 = simplex_tree2.persistence(homology_coeff_field=2, min_persistence=0)\n",
    "gd.plot_persistence_diagram(diag2).show()\n",
    "#Compute the alpha-complex filtration and compute its persistence\n",
    "alpha_complex = gd.AlphaComplex(points=pt_cloud)\n",
    "simplex_tree3 = alpha_complex.create_simplex_tree()\n",
    "print(\"Number of simplices in the alpha-complex: \",simplex_tree3.num_simplices())\n",
    "diag3 = simplex_tree3.persistence(homology_coeff_field=2, min_persistence=0)\n",
    "gd.plot_persistence_diagram(diag3)"
   ]
  },
  {
   "cell_type": "markdown",
   "metadata": {},
   "source": [
    "## Exercise"
   ]
  },
  {
   "cell_type": "markdown",
   "metadata": {},
   "source": [
    "1. Illustrate the stability theorem for persistence diagrams of Vietoris-Rips and Î±-complex filtrations (take into accound that AlphaComplex uses the square of distances as filtration values).\n",
    "2. What happens to Vietoris-Rips and Î±-complex filtrations when the size of the point cloud increases? When the ambient dimension increases?"
   ]
  }
 ],
 "metadata": {
  "kernelspec": {
   "display_name": "Python 3",
   "language": "python",
   "name": "python3"
  },
  "language_info": {
   "codemirror_mode": {
    "name": "ipython",
    "version": 3
   },
   "file_extension": ".py",
   "mimetype": "text/x-python",
   "name": "python",
   "nbconvert_exporter": "python",
   "pygments_lexer": "ipython3",
   "version": "3.6.3"
  },
  "latex_envs": {
   "LaTeX_envs_menu_present": true,
   "autoclose": false,
   "autocomplete": true,
   "bibliofile": "biblio.bib",
   "cite_by": "apalike",
   "current_citInitial": 1,
   "eqLabelWithNumbers": true,
   "eqNumInitial": 1,
   "hotkeys": {
    "equation": "Ctrl-E",
    "itemize": "Ctrl-I"
   },
   "labels_anchors": false,
   "latex_user_defs": false,
   "report_style_numbering": false,
   "user_envs_cfg": false
  },
  "toc": {
   "base_numbering": 1,
   "nav_menu": {},
   "number_sections": true,
   "sideBar": false,
   "skip_h1_title": false,
   "title_cell": "Table of Contents",
   "title_sidebar": "Contents",
   "toc_cell": false,
   "toc_position": {},
   "toc_section_display": true,
   "toc_window_display": false
  },
  "varInspector": {
   "cols": {
    "lenName": 16,
    "lenType": 16,
    "lenVar": 40
   },
   "kernels_config": {
    "python": {
     "delete_cmd_postfix": "",
     "delete_cmd_prefix": "del ",
     "library": "var_list.py",
     "varRefreshCmd": "print(var_dic_list())"
    },
    "r": {
     "delete_cmd_postfix": ") ",
     "delete_cmd_prefix": "rm(",
     "library": "var_list.r",
     "varRefreshCmd": "cat(var_dic_list()) "
    }
   },
   "types_to_exclude": [
    "module",
    "function",
    "builtin_function_or_method",
    "instance",
    "_Feature"
   ],
   "window_display": false
  }
 },
 "nbformat": 4,
 "nbformat_minor": 2
}
